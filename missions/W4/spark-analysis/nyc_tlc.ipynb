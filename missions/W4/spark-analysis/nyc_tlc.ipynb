{
 "cells": [
  {
   "cell_type": "code",
   "execution_count": 1,
   "metadata": {},
   "outputs": [],
   "source": [
    "import numpy as np\n",
    "# np.bool = np.bool_\n",
    "import pyarrow #.hdfs\n",
    "import pyarrow.parquet as pq\n",
    "import pandas as pd\n",
    "import matplotlib.pyplot as plt\n",
    "import seaborn as sns\n",
    "import os"
   ]
  },
  {
   "cell_type": "code",
   "execution_count": 2,
   "metadata": {
    "scrolled": true
   },
   "outputs": [
    {
     "name": "stderr",
     "output_type": "stream",
     "text": [
      "Setting default log level to \"WARN\".\n",
      "To adjust logging level use sc.setLogLevel(newLevel). For SparkR, use setLogLevel(newLevel).\n",
      "24/08/11 17:03:47 WARN NativeCodeLoader: Unable to load native-hadoop library for your platform... using builtin-java classes where applicable\n",
      "                                                                                \r"
     ]
    },
    {
     "name": "stdout",
     "output_type": "stream",
     "text": [
      "root\n",
      " |-- VendorID: integer (nullable = true)\n",
      " |-- tpep_pickup_datetime: timestamp_ntz (nullable = true)\n",
      " |-- tpep_dropoff_datetime: timestamp_ntz (nullable = true)\n",
      " |-- passenger_count: long (nullable = true)\n",
      " |-- trip_distance: double (nullable = true)\n",
      " |-- RatecodeID: long (nullable = true)\n",
      " |-- store_and_fwd_flag: string (nullable = true)\n",
      " |-- PULocationID: integer (nullable = true)\n",
      " |-- DOLocationID: integer (nullable = true)\n",
      " |-- payment_type: long (nullable = true)\n",
      " |-- fare_amount: double (nullable = true)\n",
      " |-- extra: double (nullable = true)\n",
      " |-- mta_tax: double (nullable = true)\n",
      " |-- tip_amount: double (nullable = true)\n",
      " |-- tolls_amount: double (nullable = true)\n",
      " |-- improvement_surcharge: double (nullable = true)\n",
      " |-- total_amount: double (nullable = true)\n",
      " |-- congestion_surcharge: double (nullable = true)\n",
      " |-- Airport_fee: double (nullable = true)\n",
      "\n"
     ]
    }
   ],
   "source": [
    "from pyspark.sql import SparkSession\n",
    "\n",
    "# Spark 세션 생성\n",
    "spark = SparkSession.builder \\\n",
    "    .appName(\"HDFS Parquet Data Analysis\") \\\n",
    "    .getOrCreate()\n",
    "\n",
    "# HDFS에 있는 Parquet 파일의 경로\n",
    "hdfs_path = \"hdfs://hadoop-master:9000/user/root/data/yellow_tripdata_2023-08.parquet\"\n",
    "\n",
    "# HDFS에서 Parquet 파일을 읽어 Spark DataFrame으로 로드\n",
    "df = spark.read.parquet(hdfs_path)\n",
    "\n",
    "df.printSchema()"
   ]
  },
  {
   "cell_type": "markdown",
   "metadata": {},
   "source": [
    "# 데이터 정제"
   ]
  },
  {
   "cell_type": "code",
   "execution_count": 5,
   "metadata": {},
   "outputs": [
    {
     "name": "stderr",
     "output_type": "stream",
     "text": [
      "[Stage 3:===================================================>       (7 + 1) / 8]\r"
     ]
    },
    {
     "name": "stdout",
     "output_type": "stream",
     "text": [
      "+--------+--------------------+---------------------+---------------+-------------+----------+------------------+------------+------------+------------+-----------+-----+-------+----------+------------+---------------------+------------+--------------------+-----------+\n",
      "|VendorID|tpep_pickup_datetime|tpep_dropoff_datetime|passenger_count|trip_distance|RatecodeID|store_and_fwd_flag|PULocationID|DOLocationID|payment_type|fare_amount|extra|mta_tax|tip_amount|tolls_amount|improvement_surcharge|total_amount|congestion_surcharge|Airport_fee|\n",
      "+--------+--------------------+---------------------+---------------+-------------+----------+------------------+------------+------------+------------+-----------+-----+-------+----------+------------+---------------------+------------+--------------------+-----------+\n",
      "|       0|                   0|                    0|          87886|            0|     87886|             87886|           0|           0|           0|          0|    0|      0|         0|           0|                    0|           0|               87886|      87886|\n",
      "+--------+--------------------+---------------------+---------------+-------------+----------+------------------+------------+------------+------------+-----------+-----+-------+----------+------------+---------------------+------------+--------------------+-----------+\n",
      "\n"
     ]
    },
    {
     "name": "stderr",
     "output_type": "stream",
     "text": [
      "                                                                                \r"
     ]
    }
   ],
   "source": [
    "from pyspark.sql import functions as F\n",
    "\n",
    "# 결측값 확인\n",
    "df.select([F.count(F.when(F.col(c).isNull(), c)).alias(c) for c in df.columns]).show()"
   ]
  },
  {
   "cell_type": "code",
   "execution_count": 6,
   "metadata": {},
   "outputs": [],
   "source": [
    "# 결측값 처리 방법:\n",
    "# 1. 특정 열의 결측값을 대체 (예: 평균값으로)\n",
    "df = df.fillna({\n",
    "    'VendorID': 1,\n",
    "    'passenger_count': df.select(F.mean('passenger_count')).first()[0],\n",
    "    'trip_distance': df.select(F.mean('trip_distance')).first()[0],\n",
    "    'RatecodeID': 1,\n",
    "    'PULocationID': 0,\n",
    "    'DOLocationID': 0,\n",
    "    'payment_type': 1,\n",
    "    'fare_amount': 0.0,\n",
    "    'extra': 0.0,\n",
    "    'mta_tax': 0.0,\n",
    "    'tip_amount': 0.0,\n",
    "    'tolls_amount': 0.0,\n",
    "    'improvement_surcharge': 0.0,\n",
    "    'total_amount': 0.0,\n",
    "    'congestion_surcharge': 0.0,\n",
    "    'Airport_fee': 0.0\n",
    "})\n",
    "\n",
    "# 2. 결측값이 있는 행 제거 (필요한 경우)\n",
    "df = df.na.drop()"
   ]
  },
  {
   "cell_type": "code",
   "execution_count": 8,
   "metadata": {},
   "outputs": [],
   "source": [
    "# 이상값 처리 방법:\n",
    "# 1. 거리(trip_distance)가 0이거나 음수인 경우 제거\n",
    "df = df.filter((F.col('trip_distance') > 0))\n",
    "\n",
    "# 2. 승객 수(passenger_count)가 0이거나 비정상적으로 큰 경우 제거\n",
    "df = df.filter((F.col('passenger_count') > 0) & (F.col('passenger_count') <= 6))\n",
    "\n",
    "# 3. 운임 금액(fare_amount)이 음수인 경우 제거\n",
    "df = df.filter(F.col('fare_amount') >= 0)\n",
    "\n",
    "# 4. 총 금액(total_amount)이 비정상적으로 큰 경우 (예: 1000달러 이상) 제거\n",
    "df = df.filter(F.col('total_amount') <= 1000)"
   ]
  },
  {
   "cell_type": "code",
   "execution_count": 9,
   "metadata": {},
   "outputs": [],
   "source": [
    "# 데이터 타입 강제 변환 및 유효성 검사\n",
    "df = df.withColumn('VendorID', F.col('VendorID').cast('integer')) \\\n",
    "       .withColumn('passenger_count', F.col('passenger_count').cast('integer')) \\\n",
    "       .withColumn('trip_distance', F.col('trip_distance').cast('double')) \\\n",
    "       .withColumn('RatecodeID', F.col('RatecodeID').cast('integer')) \\\n",
    "       .withColumn('payment_type', F.col('payment_type').cast('integer')) \\\n",
    "       .withColumn('fare_amount', F.col('fare_amount').cast('double')) \\\n",
    "       .withColumn('extra', F.col('extra').cast('double')) \\\n",
    "       .withColumn('mta_tax', F.col('mta_tax').cast('double')) \\\n",
    "       .withColumn('tip_amount', F.col('tip_amount').cast('double')) \\\n",
    "       .withColumn('tolls_amount', F.col('tolls_amount').cast('double')) \\\n",
    "       .withColumn('improvement_surcharge', F.col('improvement_surcharge').cast('double')) \\\n",
    "       .withColumn('total_amount', F.col('total_amount').cast('double')) \\\n",
    "       .withColumn('congestion_surcharge', F.col('congestion_surcharge').cast('double')) \\\n",
    "       .withColumn('Airport_fee', F.col('Airport_fee').cast('double'))\n",
    "\n",
    "# 유효한 날짜 확인 (픽업 시간이 드롭오프 시간보다 이후일 수 없음)\n",
    "df = df.filter(F.col('tpep_dropoff_datetime') > F.col('tpep_pickup_datetime'))\n"
   ]
  },
  {
   "cell_type": "code",
   "execution_count": 10,
   "metadata": {},
   "outputs": [
    {
     "name": "stderr",
     "output_type": "stream",
     "text": [
      "24/08/11 17:06:52 WARN SparkStringUtils: Truncated the string representation of a plan since it was too large. This behavior can be adjusted by setting 'spark.sql.debug.maxToStringFields'.\n",
      "[Stage 12:==================================================>       (7 + 1) / 8]\r"
     ]
    },
    {
     "name": "stdout",
     "output_type": "stream",
     "text": [
      "+-------+-------------------+------------------+------------------+-----------------+------------------+------------------+------------------+------------------+-----------------+------------------+-------------------+------------------+------------------+---------------------+------------------+--------------------+-------------------+\n",
      "|summary|           VendorID|   passenger_count|     trip_distance|       RatecodeID|store_and_fwd_flag|      PULocationID|      DOLocationID|      payment_type|      fare_amount|             extra|            mta_tax|        tip_amount|      tolls_amount|improvement_surcharge|      total_amount|congestion_surcharge|        Airport_fee|\n",
      "+-------+-------------------+------------------+------------------+-----------------+------------------+------------------+------------------+------------------+-----------------+------------------+-------------------+------------------+------------------+---------------------+------------------+--------------------+-------------------+\n",
      "|  count|            2629212|           2629212|           2629212|          2629212|           2629212|           2629212|           2629212|           2629212|          2629212|           2629212|            2629212|           2629212|           2629212|              2629212|           2629212|             2629212|            2629212|\n",
      "|   mean| 1.7601505698285265|1.4081333114256287| 4.127750333560016|1.744798441510232|              NULL|163.38847266785638|162.43970018393344|1.2208266202953584|20.01797994988673|1.6368679246861795|0.49632518412360793|3.4885386419959454|0.6489998296062154|   0.9997655571327094|29.184367947536053|  2.2910697197487306|0.17859457510463211|\n",
      "| stddev|0.42699151087876674|0.8944086921354962|178.44305468261476|8.115092203949734|              NULL| 63.14731147965918| 69.80307883131648|0.4754619241991626|18.79836592004521|1.8637839837539278|0.04318393622629311| 4.062063684431318|   2.2788959331535|    0.016432238252398|23.462627336539658|  0.6920916454976995|    0.5297895502465|\n",
      "|    min|                  1|                 1|              0.01|                1|                 N|                 1|                 1|                 1|              0.0|               0.0|               -0.5|               0.0|               0.0|                 -1.0|             -5.75|                -2.5|              -1.75|\n",
      "|    max|                  2|                 6|          140385.2|               99|                 Y|               265|               265|                 4|            824.8|             14.25|                4.0|             353.5|             87.75|                  1.0|             901.2|                 2.5|               1.75|\n",
      "+-------+-------------------+------------------+------------------+-----------------+------------------+------------------+------------------+------------------+-----------------+------------------+-------------------+------------------+------------------+---------------------+------------------+--------------------+-------------------+\n",
      "\n",
      "root\n",
      " |-- VendorID: integer (nullable = false)\n",
      " |-- tpep_pickup_datetime: timestamp_ntz (nullable = true)\n",
      " |-- tpep_dropoff_datetime: timestamp_ntz (nullable = true)\n",
      " |-- passenger_count: integer (nullable = true)\n",
      " |-- trip_distance: double (nullable = false)\n",
      " |-- RatecodeID: integer (nullable = false)\n",
      " |-- store_and_fwd_flag: string (nullable = true)\n",
      " |-- PULocationID: integer (nullable = false)\n",
      " |-- DOLocationID: integer (nullable = false)\n",
      " |-- payment_type: integer (nullable = false)\n",
      " |-- fare_amount: double (nullable = false)\n",
      " |-- extra: double (nullable = false)\n",
      " |-- mta_tax: double (nullable = false)\n",
      " |-- tip_amount: double (nullable = false)\n",
      " |-- tolls_amount: double (nullable = false)\n",
      " |-- improvement_surcharge: double (nullable = false)\n",
      " |-- total_amount: double (nullable = false)\n",
      " |-- congestion_surcharge: double (nullable = false)\n",
      " |-- Airport_fee: double (nullable = false)\n",
      "\n"
     ]
    },
    {
     "name": "stderr",
     "output_type": "stream",
     "text": [
      "                                                                                \r"
     ]
    }
   ],
   "source": [
    "# 정제 후 데이터 확인\n",
    "df.describe().show()\n",
    "\n",
    "# 스키마 확인\n",
    "df.printSchema()\n"
   ]
  },
  {
   "cell_type": "code",
   "execution_count": null,
   "metadata": {},
   "outputs": [],
   "source": []
  },
  {
   "cell_type": "code",
   "execution_count": null,
   "metadata": {},
   "outputs": [],
   "source": [
    "# 1.평균 여행 기간\n",
    "df['mean_time_travel'] = df['tpep_dropoff_datetime'] - df['tpep_pickup_datetime']"
   ]
  },
  {
   "cell_type": "code",
   "execution_count": 33,
   "metadata": {
    "scrolled": true
   },
   "outputs": [
    {
     "ename": "ConnectionRefusedError",
     "evalue": "[Errno 111] Connection refused",
     "output_type": "error",
     "traceback": [
      "\u001b[0;31m---------------------------------------------------------------------------\u001b[0m",
      "\u001b[0;31mConnectionRefusedError\u001b[0m                    Traceback (most recent call last)",
      "Cell \u001b[0;32mIn[33], line 1\u001b[0m\n\u001b[0;32m----> 1\u001b[0m \u001b[43mdf\u001b[49m\u001b[43m[\u001b[49m\u001b[38;5;124;43m'\u001b[39;49m\u001b[38;5;124;43mmean_time_travel\u001b[39;49m\u001b[38;5;124;43m'\u001b[39;49m\u001b[43m]\u001b[49m\u001b[38;5;241m.\u001b[39mmean()\n",
      "File \u001b[0;32m/usr/local/lib/python3.10/dist-packages/pyspark/sql/dataframe.py:3078\u001b[0m, in \u001b[0;36mDataFrame.__getitem__\u001b[0;34m(self, item)\u001b[0m\n\u001b[1;32m   3006\u001b[0m \u001b[38;5;250m\u001b[39m\u001b[38;5;124;03m\"\"\"Returns the column as a :class:`Column`.\u001b[39;00m\n\u001b[1;32m   3007\u001b[0m \n\u001b[1;32m   3008\u001b[0m \u001b[38;5;124;03m.. versionadded:: 1.3.0\u001b[39;00m\n\u001b[0;32m   (...)\u001b[0m\n\u001b[1;32m   3075\u001b[0m \u001b[38;5;124;03m+---+----+\u001b[39;00m\n\u001b[1;32m   3076\u001b[0m \u001b[38;5;124;03m\"\"\"\u001b[39;00m\n\u001b[1;32m   3077\u001b[0m \u001b[38;5;28;01mif\u001b[39;00m \u001b[38;5;28misinstance\u001b[39m(item, \u001b[38;5;28mstr\u001b[39m):\n\u001b[0;32m-> 3078\u001b[0m     jc \u001b[38;5;241m=\u001b[39m \u001b[38;5;28;43mself\u001b[39;49m\u001b[38;5;241;43m.\u001b[39;49m\u001b[43m_jdf\u001b[49m\u001b[38;5;241;43m.\u001b[39;49m\u001b[43mapply\u001b[49m\u001b[43m(\u001b[49m\u001b[43mitem\u001b[49m\u001b[43m)\u001b[49m\n\u001b[1;32m   3079\u001b[0m     \u001b[38;5;28;01mreturn\u001b[39;00m Column(jc)\n\u001b[1;32m   3080\u001b[0m \u001b[38;5;28;01melif\u001b[39;00m \u001b[38;5;28misinstance\u001b[39m(item, Column):\n",
      "File \u001b[0;32m/usr/local/lib/python3.10/dist-packages/py4j/java_gateway.py:1321\u001b[0m, in \u001b[0;36mJavaMember.__call__\u001b[0;34m(self, *args)\u001b[0m\n\u001b[1;32m   1314\u001b[0m args_command, temp_args \u001b[38;5;241m=\u001b[39m \u001b[38;5;28mself\u001b[39m\u001b[38;5;241m.\u001b[39m_build_args(\u001b[38;5;241m*\u001b[39margs)\n\u001b[1;32m   1316\u001b[0m command \u001b[38;5;241m=\u001b[39m proto\u001b[38;5;241m.\u001b[39mCALL_COMMAND_NAME \u001b[38;5;241m+\u001b[39m\\\n\u001b[1;32m   1317\u001b[0m     \u001b[38;5;28mself\u001b[39m\u001b[38;5;241m.\u001b[39mcommand_header \u001b[38;5;241m+\u001b[39m\\\n\u001b[1;32m   1318\u001b[0m     args_command \u001b[38;5;241m+\u001b[39m\\\n\u001b[1;32m   1319\u001b[0m     proto\u001b[38;5;241m.\u001b[39mEND_COMMAND_PART\n\u001b[0;32m-> 1321\u001b[0m answer \u001b[38;5;241m=\u001b[39m \u001b[38;5;28;43mself\u001b[39;49m\u001b[38;5;241;43m.\u001b[39;49m\u001b[43mgateway_client\u001b[49m\u001b[38;5;241;43m.\u001b[39;49m\u001b[43msend_command\u001b[49m\u001b[43m(\u001b[49m\u001b[43mcommand\u001b[49m\u001b[43m)\u001b[49m\n\u001b[1;32m   1322\u001b[0m return_value \u001b[38;5;241m=\u001b[39m get_return_value(\n\u001b[1;32m   1323\u001b[0m     answer, \u001b[38;5;28mself\u001b[39m\u001b[38;5;241m.\u001b[39mgateway_client, \u001b[38;5;28mself\u001b[39m\u001b[38;5;241m.\u001b[39mtarget_id, \u001b[38;5;28mself\u001b[39m\u001b[38;5;241m.\u001b[39mname)\n\u001b[1;32m   1325\u001b[0m \u001b[38;5;28;01mfor\u001b[39;00m temp_arg \u001b[38;5;129;01min\u001b[39;00m temp_args:\n",
      "File \u001b[0;32m/usr/local/lib/python3.10/dist-packages/py4j/java_gateway.py:1036\u001b[0m, in \u001b[0;36mGatewayClient.send_command\u001b[0;34m(self, command, retry, binary)\u001b[0m\n\u001b[1;32m   1015\u001b[0m \u001b[38;5;28;01mdef\u001b[39;00m \u001b[38;5;21msend_command\u001b[39m(\u001b[38;5;28mself\u001b[39m, command, retry\u001b[38;5;241m=\u001b[39m\u001b[38;5;28;01mTrue\u001b[39;00m, binary\u001b[38;5;241m=\u001b[39m\u001b[38;5;28;01mFalse\u001b[39;00m):\n\u001b[1;32m   1016\u001b[0m \u001b[38;5;250m    \u001b[39m\u001b[38;5;124;03m\"\"\"Sends a command to the JVM. This method is not intended to be\u001b[39;00m\n\u001b[1;32m   1017\u001b[0m \u001b[38;5;124;03m       called directly by Py4J users. It is usually called by\u001b[39;00m\n\u001b[1;32m   1018\u001b[0m \u001b[38;5;124;03m       :class:`JavaMember` instances.\u001b[39;00m\n\u001b[0;32m   (...)\u001b[0m\n\u001b[1;32m   1034\u001b[0m \u001b[38;5;124;03m     if `binary` is `True`.\u001b[39;00m\n\u001b[1;32m   1035\u001b[0m \u001b[38;5;124;03m    \"\"\"\u001b[39;00m\n\u001b[0;32m-> 1036\u001b[0m     connection \u001b[38;5;241m=\u001b[39m \u001b[38;5;28;43mself\u001b[39;49m\u001b[38;5;241;43m.\u001b[39;49m\u001b[43m_get_connection\u001b[49m\u001b[43m(\u001b[49m\u001b[43m)\u001b[49m\n\u001b[1;32m   1037\u001b[0m     \u001b[38;5;28;01mtry\u001b[39;00m:\n\u001b[1;32m   1038\u001b[0m         response \u001b[38;5;241m=\u001b[39m connection\u001b[38;5;241m.\u001b[39msend_command(command)\n",
      "File \u001b[0;32m/usr/local/lib/python3.10/dist-packages/py4j/clientserver.py:284\u001b[0m, in \u001b[0;36mJavaClient._get_connection\u001b[0;34m(self)\u001b[0m\n\u001b[1;32m    281\u001b[0m     \u001b[38;5;28;01mpass\u001b[39;00m\n\u001b[1;32m    283\u001b[0m \u001b[38;5;28;01mif\u001b[39;00m connection \u001b[38;5;129;01mis\u001b[39;00m \u001b[38;5;28;01mNone\u001b[39;00m \u001b[38;5;129;01mor\u001b[39;00m connection\u001b[38;5;241m.\u001b[39msocket \u001b[38;5;129;01mis\u001b[39;00m \u001b[38;5;28;01mNone\u001b[39;00m:\n\u001b[0;32m--> 284\u001b[0m     connection \u001b[38;5;241m=\u001b[39m \u001b[38;5;28;43mself\u001b[39;49m\u001b[38;5;241;43m.\u001b[39;49m\u001b[43m_create_new_connection\u001b[49m\u001b[43m(\u001b[49m\u001b[43m)\u001b[49m\n\u001b[1;32m    285\u001b[0m \u001b[38;5;28;01mreturn\u001b[39;00m connection\n",
      "File \u001b[0;32m/usr/local/lib/python3.10/dist-packages/py4j/clientserver.py:291\u001b[0m, in \u001b[0;36mJavaClient._create_new_connection\u001b[0;34m(self)\u001b[0m\n\u001b[1;32m    287\u001b[0m \u001b[38;5;28;01mdef\u001b[39;00m \u001b[38;5;21m_create_new_connection\u001b[39m(\u001b[38;5;28mself\u001b[39m):\n\u001b[1;32m    288\u001b[0m     connection \u001b[38;5;241m=\u001b[39m ClientServerConnection(\n\u001b[1;32m    289\u001b[0m         \u001b[38;5;28mself\u001b[39m\u001b[38;5;241m.\u001b[39mjava_parameters, \u001b[38;5;28mself\u001b[39m\u001b[38;5;241m.\u001b[39mpython_parameters,\n\u001b[1;32m    290\u001b[0m         \u001b[38;5;28mself\u001b[39m\u001b[38;5;241m.\u001b[39mgateway_property, \u001b[38;5;28mself\u001b[39m)\n\u001b[0;32m--> 291\u001b[0m     \u001b[43mconnection\u001b[49m\u001b[38;5;241;43m.\u001b[39;49m\u001b[43mconnect_to_java_server\u001b[49m\u001b[43m(\u001b[49m\u001b[43m)\u001b[49m\n\u001b[1;32m    292\u001b[0m     \u001b[38;5;28mself\u001b[39m\u001b[38;5;241m.\u001b[39mset_thread_connection(connection)\n\u001b[1;32m    293\u001b[0m     \u001b[38;5;28;01mreturn\u001b[39;00m connection\n",
      "File \u001b[0;32m/usr/local/lib/python3.10/dist-packages/py4j/clientserver.py:438\u001b[0m, in \u001b[0;36mClientServerConnection.connect_to_java_server\u001b[0;34m(self)\u001b[0m\n\u001b[1;32m    435\u001b[0m \u001b[38;5;28;01mif\u001b[39;00m \u001b[38;5;28mself\u001b[39m\u001b[38;5;241m.\u001b[39mssl_context:\n\u001b[1;32m    436\u001b[0m     \u001b[38;5;28mself\u001b[39m\u001b[38;5;241m.\u001b[39msocket \u001b[38;5;241m=\u001b[39m \u001b[38;5;28mself\u001b[39m\u001b[38;5;241m.\u001b[39mssl_context\u001b[38;5;241m.\u001b[39mwrap_socket(\n\u001b[1;32m    437\u001b[0m         \u001b[38;5;28mself\u001b[39m\u001b[38;5;241m.\u001b[39msocket, server_hostname\u001b[38;5;241m=\u001b[39m\u001b[38;5;28mself\u001b[39m\u001b[38;5;241m.\u001b[39mjava_address)\n\u001b[0;32m--> 438\u001b[0m \u001b[38;5;28;43mself\u001b[39;49m\u001b[38;5;241;43m.\u001b[39;49m\u001b[43msocket\u001b[49m\u001b[38;5;241;43m.\u001b[39;49m\u001b[43mconnect\u001b[49m\u001b[43m(\u001b[49m\u001b[43m(\u001b[49m\u001b[38;5;28;43mself\u001b[39;49m\u001b[38;5;241;43m.\u001b[39;49m\u001b[43mjava_address\u001b[49m\u001b[43m,\u001b[49m\u001b[43m \u001b[49m\u001b[38;5;28;43mself\u001b[39;49m\u001b[38;5;241;43m.\u001b[39;49m\u001b[43mjava_port\u001b[49m\u001b[43m)\u001b[49m\u001b[43m)\u001b[49m\n\u001b[1;32m    439\u001b[0m \u001b[38;5;28mself\u001b[39m\u001b[38;5;241m.\u001b[39mstream \u001b[38;5;241m=\u001b[39m \u001b[38;5;28mself\u001b[39m\u001b[38;5;241m.\u001b[39msocket\u001b[38;5;241m.\u001b[39mmakefile(\u001b[38;5;124m\"\u001b[39m\u001b[38;5;124mrb\u001b[39m\u001b[38;5;124m\"\u001b[39m)\n\u001b[1;32m    440\u001b[0m \u001b[38;5;28mself\u001b[39m\u001b[38;5;241m.\u001b[39mis_connected \u001b[38;5;241m=\u001b[39m \u001b[38;5;28;01mTrue\u001b[39;00m\n",
      "\u001b[0;31mConnectionRefusedError\u001b[0m: [Errno 111] Connection refused"
     ]
    }
   ],
   "source": [
    "df['mean_time_travel'].mean()"
   ]
  },
  {
   "cell_type": "code",
   "execution_count": 12,
   "metadata": {
    "scrolled": true
   },
   "outputs": [
    {
     "name": "stderr",
     "output_type": "stream",
     "text": [
      "[Stage 15:====================================>                     (5 + 3) / 8]\r"
     ]
    },
    {
     "name": "stdout",
     "output_type": "stream",
     "text": [
      "Mean Travel Time: 1033.2549056523399 seconds\n"
     ]
    },
    {
     "name": "stderr",
     "output_type": "stream",
     "text": [
      "                                                                                \r"
     ]
    }
   ],
   "source": [
    "from pyspark.sql import functions as F\n",
    "\n",
    "# 여행 기간 계산 (초 단위로)\n",
    "df = df.withColumn('travel_time', \n",
    "                   F.unix_timestamp('tpep_dropoff_datetime') - F.unix_timestamp('tpep_pickup_datetime'))\n",
    "\n",
    "# 평균 여행 기간 계산\n",
    "mean_travel_time = df.select(F.mean('travel_time')).collect()[0][0]\n",
    "print(f\"Mean Travel Time: {mean_travel_time} seconds\")"
   ]
  },
  {
   "cell_type": "code",
   "execution_count": null,
   "metadata": {},
   "outputs": [],
   "source": []
  },
  {
   "cell_type": "code",
   "execution_count": null,
   "metadata": {},
   "outputs": [],
   "source": [
    "# 2.평균 여행 거리\n",
    "df['trip_distance'].mean()"
   ]
  },
  {
   "cell_type": "code",
   "execution_count": 13,
   "metadata": {},
   "outputs": [
    {
     "name": "stderr",
     "output_type": "stream",
     "text": [
      "[Stage 18:====================================>                     (5 + 3) / 8]\r"
     ]
    },
    {
     "name": "stdout",
     "output_type": "stream",
     "text": [
      "Mean Trip Distance: 4.127750333560016 miles\n"
     ]
    },
    {
     "name": "stderr",
     "output_type": "stream",
     "text": [
      "                                                                                \r"
     ]
    }
   ],
   "source": [
    "# 평균 여행 거리 계산\n",
    "mean_trip_distance = df.select(F.mean('trip_distance')).collect()[0][0]\n",
    "print(f\"Mean Trip Distance: {mean_trip_distance} miles\")"
   ]
  },
  {
   "cell_type": "code",
   "execution_count": null,
   "metadata": {},
   "outputs": [],
   "source": []
  },
  {
   "cell_type": "code",
   "execution_count": null,
   "metadata": {},
   "outputs": [],
   "source": [
    "# 3.시간당 출발하는 여행 수를 기준으로 '피크 시간' 정의\n",
    "# 하루동안 여행 분포 시각화 -> 값에 따라 강조\n",
    "df['tpep_pickup_datetime'] = pd.to_datetime(df['tpep_pickup_datetime'])\n",
    "df_hourly_counts = df.groupby(pd.Grouper(key='tpep_pickup_datetime', freq='H')).size()"
   ]
  },
  {
   "cell_type": "code",
   "execution_count": null,
   "metadata": {},
   "outputs": [],
   "source": [
    "# 'timestamp' 열을 인덱스로 설정\n",
    "df.set_index('tpep_pickup_datetime', inplace=True)\n",
    "\n",
    "# 시간 단위로 리샘플링하여 레코드 수 세기\n",
    "df_hourly_counts = df.resample('H').size()\n",
    "print(df_hourly_counts)"
   ]
  },
  {
   "cell_type": "code",
   "execution_count": null,
   "metadata": {},
   "outputs": [],
   "source": [
    "specific_day='2023-06-30'\n",
    "s_specific_day = df_hourly_counts[df_hourly_counts.index.date == pd.to_datetime(specific_day).date()]"
   ]
  },
  {
   "cell_type": "code",
   "execution_count": null,
   "metadata": {},
   "outputs": [],
   "source": [
    "s_specific_day"
   ]
  },
  {
   "cell_type": "code",
   "execution_count": null,
   "metadata": {},
   "outputs": [],
   "source": [
    "# 결과 시각화\n",
    "plt.figure(figsize=(10, 6))\n",
    "s_specific_day.plot(kind='bar')\n",
    "plt.title('Peak Time analysis')\n",
    "plt.xlabel('hour')\n",
    "plt.ylabel('frequency')\n",
    "plt.grid(True)\n",
    "plt.show()"
   ]
  },
  {
   "cell_type": "code",
   "execution_count": 15,
   "metadata": {},
   "outputs": [
    {
     "name": "stderr",
     "output_type": "stream",
     "text": [
      "                                                                                \r"
     ]
    },
    {
     "name": "stdout",
     "output_type": "stream",
     "text": [
      "+----+------+\n",
      "|hour| count|\n",
      "+----+------+\n",
      "|   0| 72914|\n",
      "|   1| 48984|\n",
      "|   2| 31953|\n",
      "|   3| 19980|\n",
      "|   4| 12797|\n",
      "|   5| 15494|\n",
      "|   6| 38374|\n",
      "|   7| 67706|\n",
      "|   8|100257|\n",
      "|   9|116454|\n",
      "|  10|124969|\n",
      "|  11|132811|\n",
      "|  12|146348|\n",
      "|  13|152138|\n",
      "|  14|161401|\n",
      "|  15|167257|\n",
      "|  16|166538|\n",
      "|  17|175329|\n",
      "|  18|180951|\n",
      "|  19|161907|\n",
      "+----+------+\n",
      "only showing top 20 rows\n",
      "\n",
      "+----+-----+\n",
      "|hour|count|\n",
      "+----+-----+\n",
      "+----+-----+\n",
      "\n"
     ]
    },
    {
     "data": {
      "image/png": "[encoded data removed]",
      "text/plain": [
       "<Figure size 1000x600 with 1 Axes>"
      ]
     },
     "metadata": {},
     "output_type": "display_data"
    }
   ],
   "source": [
    "# 'tpep_pickup_datetime' 열에서 시간 정보를 추출하고, 시간 단위로 그룹화하여 여행 수 계산\n",
    "df_hourly_counts = df.withColumn(\"hour\", F.hour(\"tpep_pickup_datetime\")) \\\n",
    "                     .groupBy(\"hour\") \\\n",
    "                     .count() \\\n",
    "                     .orderBy(\"hour\")\n",
    "\n",
    "df_hourly_counts.show()\n",
    "\n",
    "# 특정 일의 데이터 필터링\n",
    "specific_day = '2023-06-30'\n",
    "df_specific_day = df.filter(F.to_date(df['tpep_pickup_datetime']) == specific_day)\n",
    "\n",
    "# 시간 단위로 필터링된 데이터 리샘플링\n",
    "df_hourly_counts_specific_day = df_specific_day.groupBy(F.hour(\"tpep_pickup_datetime\").alias(\"hour\")) \\\n",
    "                                               .count() \\\n",
    "                                               .orderBy(\"hour\")\n",
    "\n",
    "df_hourly_counts_specific_day.show()\n",
    "\n",
    "# 결과 시각화\n",
    "import matplotlib.pyplot as plt\n",
    "\n",
    "df_pandas = df_hourly_counts_specific_day.toPandas()\n",
    "plt.figure(figsize=(10, 6))\n",
    "plt.bar(df_pandas['hour'], df_pandas['count'])\n",
    "plt.title('Peak Time analysis')\n",
    "plt.xlabel('Hour')\n",
    "plt.ylabel('Frequency')\n",
    "plt.grid(True)\n",
    "plt.show()\n"
   ]
  },
  {
   "cell_type": "code",
   "execution_count": null,
   "metadata": {},
   "outputs": [],
   "source": [
    "# 4.여행 + 날씨(기온, 강수량 등)\n",
    "weather = pd.read_csv('jan_2024_weather_data.csv')\n",
    "weather['Datetime'] = pd.to_datetime(weather['Datetime'])\n",
    "weather['Datetime'] = weather['Datetime'] - pd.DateOffset(years=1)\n",
    "weather"
   ]
  },
  {
   "cell_type": "code",
   "execution_count": null,
   "metadata": {},
   "outputs": [],
   "source": [
    "# 날짜만 추출하여 'date' 열 생성\n",
    "weather['date'] = weather['Datetime'].dt.date\n",
    "\n",
    "# 하루의 대표 Condition 계산\n",
    "representative_condition = weather.groupby('date')['Condition'].agg(lambda x: x.mode()[0])\n",
    "\n",
    "# 하루의 평균 Temperature 계산\n",
    "average_temperature = weather.groupby('date')['Temperature'].mean()\n",
    "\n",
    "# 결과를 하나의 DataFrame으로 결합\n",
    "result_df = pd.DataFrame({\n",
    "    'Condition': representative_condition,\n",
    "    'Average Temperature': average_temperature\n",
    "})\n",
    "\n",
    "print(result_df)"
   ]
  },
  {
   "cell_type": "code",
   "execution_count": null,
   "metadata": {},
   "outputs": [],
   "source": [
    "# 2023-01-01부터 2023-05-31까지의 데이터만 필터링\n",
    "filtered_df = df_hourly_counts['2023-01-01':'2023-05-31']\n",
    "filtered_df"
   ]
  },
  {
   "cell_type": "code",
   "execution_count": null,
   "metadata": {},
   "outputs": [],
   "source": [
    "date_counts = filtered_df.groupby(filtered_df.index.date).size()\n",
    "date_counts.name = 'count'\n",
    "# 날짜를 인덱스에서 열로 변환\n",
    "date_counts = date_counts.reset_index()\n",
    "# 열 이름 변경 (인덱스에서 변환된 열의 이름이 'index'이므로 이를 'date'로 변경)\n",
    "date_counts.rename(columns={'index': 'date'}, inplace=True)\n",
    "date_counts"
   ]
  },
  {
   "cell_type": "code",
   "execution_count": null,
   "metadata": {},
   "outputs": [],
   "source": [
    "# 병합 수행\n",
    "merged_df = pd.merge(date_counts, weather, left_on='date', right_on='date', how='outer')\n",
    "\n",
    "print(merged_df)"
   ]
  },
  {
   "cell_type": "code",
   "execution_count": null,
   "metadata": {
    "scrolled": true
   },
   "outputs": [],
   "source": [
    "# Condition별 레코드 수 계산\n",
    "condition_counts = merged_df['Condition'].value_counts()\n",
    "\n",
    "# Condition별 레코드 수 시각화\n",
    "plt.figure(figsize=(10, 6))\n",
    "sns.barplot(x=condition_counts.index, y=condition_counts.values)\n",
    "plt.title('Count of Records by Condition')\n",
    "plt.xlabel('Condition')\n",
    "plt.ylabel('Count')\n",
    "plt.xticks(rotation=45)\n",
    "plt.show()\n"
   ]
  },
  {
   "cell_type": "code",
   "execution_count": null,
   "metadata": {},
   "outputs": [],
   "source": [
    "# Temperature별 레코드 수 계산\n",
    "# Temperature는 문자열이므로, 필요시 숫자로 변환\n",
    "merged_df['Temperature'] = merged_df['Temperature'].astype(float)\n",
    "temperature_counts = merged_df['Temperature'].value_counts().sort_index()\n",
    "\n",
    "# Temperature별 레코드 수 시각화\n",
    "plt.figure(figsize=(10, 6))\n",
    "sns.barplot(x=temperature_counts.index, y=temperature_counts.values)\n",
    "plt.title('Count of Records by Temperature')\n",
    "plt.xlabel('Temperature')\n",
    "plt.ylabel('Count')\n",
    "plt.xticks(rotation=45)\n",
    "plt.show()\n"
   ]
  },
  {
   "cell_type": "code",
   "execution_count": null,
   "metadata": {},
   "outputs": [],
   "source": [
    "# 날짜별 평균 기온 시각화\n",
    "plt.figure(figsize=(40, 6))\n",
    "result_df['Average Temperature'].plot(kind='bar', color='skyblue')\n",
    "plt.title('Average Temperature by Date')\n",
    "plt.xlabel('Date')\n",
    "plt.ylabel('Average Temperature (°C)')\n",
    "plt.grid(True)\n",
    "plt.xticks(rotation=45)\n",
    "plt.show()"
   ]
  },
  {
   "cell_type": "code",
   "execution_count": 20,
   "metadata": {},
   "outputs": [
    {
     "name": "stderr",
     "output_type": "stream",
     "text": [
      "                                                                                \r"
     ]
    },
    {
     "name": "stdout",
     "output_type": "stream",
     "text": [
      "+----------+--------------------+-------------------+\n",
      "|      date|           Condition|Average Temperature|\n",
      "+----------+--------------------+-------------------+\n",
      "|2024-01-01|                Fair|  5.787825773938123|\n",
      "|2024-01-02|                Fair|  2.693187499999981|\n",
      "|2024-01-03|                Fair|   3.98083333333331|\n",
      "|2024-01-04|              Cloudy| 3.9223958333333364|\n",
      "|2024-01-05|        Fair / Windy| 0.4577916666666623|\n",
      "|2024-01-06|                Fair| 1.5149444444444524|\n",
      "|2024-01-07|  Light Rain / Windy|  2.782812500000008|\n",
      "|2024-01-08|       Mostly Cloudy|   4.45152083333337|\n",
      "|2024-01-09|                Fair|  6.715951388888872|\n",
      "|2024-01-10|  Heavy Rain / Windy| 10.062062499999927|\n",
      "|2024-01-11|      Cloudy / Windy|  6.899583333333395|\n",
      "|2024-01-12|       Mostly Cloudy|   7.31402083333332|\n",
      "|2024-01-13|  Light Rain / Windy|  9.678291666666702|\n",
      "|2024-01-14|Mostly Cloudy / W...| 1.8141041666666402|\n",
      "|2024-01-15|                Fair|-2.8510694444444553|\n",
      "|2024-01-16|          Light Snow|-2.2185972222222383|\n",
      "|2024-01-17|                Fair| -5.299583333333217|\n",
      "|2024-01-18|                Fair|-1.8921805555555655|\n",
      "|2024-01-19|              Cloudy| -1.279715277777778|\n",
      "|2024-01-20|       Mostly Cloudy| -5.368729166666659|\n",
      "+----------+--------------------+-------------------+\n",
      "only showing top 20 rows\n",
      "\n"
     ]
    },
    {
     "name": "stderr",
     "output_type": "stream",
     "text": [
      "                                                                                \r"
     ]
    },
    {
     "name": "stdout",
     "output_type": "stream",
     "text": [
      "+----------+-----+--------------------+-------------------+\n",
      "|      date|count|           Condition|Average Temperature|\n",
      "+----------+-----+--------------------+-------------------+\n",
      "|2024-01-01| NULL|                Fair|  5.787825773938123|\n",
      "|2024-01-02| NULL|                Fair|  2.693187499999981|\n",
      "|2024-01-03| NULL|                Fair|   3.98083333333331|\n",
      "|2024-01-04| NULL|              Cloudy| 3.9223958333333364|\n",
      "|2024-01-05| NULL|        Fair / Windy| 0.4577916666666623|\n",
      "|2024-01-06| NULL|                Fair| 1.5149444444444524|\n",
      "|2024-01-07| NULL|  Light Rain / Windy|  2.782812500000008|\n",
      "|2024-01-08| NULL|       Mostly Cloudy|   4.45152083333337|\n",
      "|2024-01-09| NULL|                Fair|  6.715951388888872|\n",
      "|2024-01-10| NULL|  Heavy Rain / Windy| 10.062062499999927|\n",
      "|2024-01-11| NULL|      Cloudy / Windy|  6.899583333333395|\n",
      "|2024-01-12| NULL|       Mostly Cloudy|   7.31402083333332|\n",
      "|2024-01-13| NULL|  Light Rain / Windy|  9.678291666666702|\n",
      "|2024-01-14| NULL|Mostly Cloudy / W...| 1.8141041666666402|\n",
      "|2024-01-15| NULL|                Fair|-2.8510694444444553|\n",
      "|2024-01-16| NULL|          Light Snow|-2.2185972222222383|\n",
      "|2024-01-17| NULL|                Fair| -5.299583333333217|\n",
      "|2024-01-18| NULL|                Fair|-1.8921805555555655|\n",
      "|2024-01-19| NULL|              Cloudy| -1.279715277777778|\n",
      "|2024-01-20| NULL|       Mostly Cloudy| -5.368729166666659|\n",
      "+----------+-----+--------------------+-------------------+\n",
      "only showing top 20 rows\n",
      "\n"
     ]
    },
    {
     "name": "stderr",
     "output_type": "stream",
     "text": [
      "                                                                                \r"
     ]
    },
    {
     "data": {
      "image/png": "[encoded data removed]",
      "text/plain": [
       "<Figure size 1000x600 with 1 Axes>"
      ]
     },
     "metadata": {},
     "output_type": "display_data"
    },
    {
     "name": "stderr",
     "output_type": "stream",
     "text": [
      "                                                                                \r"
     ]
    },
    {
     "data": {
      "image/png": "[encoded data removed]",
      "text/plain": [
       "<Figure size 1000x600 with 1 Axes>"
      ]
     },
     "metadata": {},
     "output_type": "display_data"
    },
    {
     "data": {
      "image/png": "[encoded data removed]",
      "text/plain": [
       "<Figure size 4000x600 with 1 Axes>"
      ]
     },
     "metadata": {},
     "output_type": "display_data"
    }
   ],
   "source": [
    "# 날씨 데이터 로드\n",
    "weather_df = spark.read.csv('hdfs://hadoop-master:9000/user/root/data/jan_2024_weather_data.csv', header=True, inferSchema=True)\n",
    "\n",
    "# 날짜 형식 변환\n",
    "weather_df = weather_df.withColumn('Datetime', F.to_timestamp('Datetime'))\n",
    "weather_df = weather_df.withColumn('date', F.to_date(weather_df['Datetime']))\n",
    "\n",
    "# 하루의 대표 Condition과 평균 Temperature 계산\n",
    "representative_condition = weather_df.groupBy('date') \\\n",
    "                                     .agg(F.expr('first(Condition)').alias('Condition'),\n",
    "                                          F.avg('Temperature').alias('Average Temperature'))\n",
    "\n",
    "representative_condition.show()\n",
    "\n",
    "# 2023-01-01부터 2023-05-31까지의 데이터만 필터링\n",
    "filtered_df = df.filter((F.col('tpep_pickup_datetime') >= '2023-01-01') & (F.col('tpep_pickup_datetime') <= '2023-05-31'))\n",
    "\n",
    "# 날짜별로 그룹화하여 여행 수 계산\n",
    "date_counts = filtered_df.withColumn('date', F.to_date('tpep_pickup_datetime')) \\\n",
    "                         .groupBy('date') \\\n",
    "                         .count()\n",
    "\n",
    "# 날씨 데이터와 병합\n",
    "merged_df = date_counts.join(representative_condition, on='date', how='outer')\n",
    "\n",
    "merged_df.show()\n",
    "\n",
    "# Condition별 레코드 수 계산 및 시각화\n",
    "condition_counts = merged_df.groupBy('Condition').count().orderBy('count', ascending=False)\n",
    "\n",
    "condition_counts_pandas = condition_counts.toPandas()\n",
    "plt.figure(figsize=(10, 6))\n",
    "plt.bar(condition_counts_pandas['Condition'], condition_counts_pandas['count'])\n",
    "plt.title('Count of Records by Condition')\n",
    "plt.xlabel('Condition')\n",
    "plt.ylabel('Count')\n",
    "plt.xticks(rotation=45)\n",
    "plt.show()\n",
    "\n",
    "# Temperature별 레코드 수 계산 및 시각화\n",
    "temperature_counts = merged_df.groupBy('Average Temperature').count().orderBy('Average Temperature')\n",
    "\n",
    "temperature_counts_pandas = temperature_counts.toPandas()\n",
    "plt.figure(figsize=(10, 6))\n",
    "plt.bar(temperature_counts_pandas['Average Temperature'], temperature_counts_pandas['count'])\n",
    "plt.title('Count of Records by Temperature')\n",
    "plt.xlabel('Temperature')\n",
    "plt.ylabel('Count')\n",
    "plt.xticks(rotation=45)\n",
    "plt.show()\n",
    "\n",
    "# 날짜별 평균 기온 시각화\n",
    "plt.figure(figsize=(40, 6))\n",
    "result_pandas = representative_condition.toPandas()\n",
    "plt.bar(result_pandas['date'], result_pandas['Average Temperature'], color='skyblue')\n",
    "plt.title('Average Temperature by Date')\n",
    "plt.xlabel('Date')\n",
    "plt.ylabel('Average Temperature (°C)')\n",
    "plt.grid(True)\n",
    "plt.xticks(rotation=45)\n",
    "plt.show()\n"
   ]
  },
  {
   "cell_type": "code",
   "execution_count": 21,
   "metadata": {},
   "outputs": [
    {
     "name": "stderr",
     "output_type": "stream",
     "text": [
      "[Stage 72:=============>    (6 + 2) / 8][Stage 73:======>           (1 + 2) / 3]\r"
     ]
    },
    {
     "name": "stdout",
     "output_type": "stream",
     "text": [
      "Spark DataFrame successfully saved to HDFS at hdfs://hadoop-master:9000/user/root/output/result.parquet\n"
     ]
    },
    {
     "name": "stderr",
     "output_type": "stream",
     "text": [
      "                                                                                \r"
     ]
    }
   ],
   "source": [
    "# Parquet 형식으로 HDFS에 저장\n",
    "hdfs_path = 'hdfs://hadoop-master:9000/user/root/output/result.parquet'\n",
    "merged_df.write.parquet(hdfs_path)\n",
    "\n",
    "print(f'Spark DataFrame successfully saved to HDFS at {hdfs_path}')"
   ]
  },
  {
   "cell_type": "code",
   "execution_count": null,
   "metadata": {},
   "outputs": [],
   "source": []
  }
 ],
 "metadata": {
  "kernelspec": {
   "display_name": "Python 3 (ipykernel)",
   "language": "python",
   "name": "python3"
  },
  "language_info": {
   "codemirror_mode": {
    "name": "ipython",
    "version": 3
   },
   "file_extension": ".py",
   "mimetype": "text/x-python",
   "name": "python",
   "nbconvert_exporter": "python",
   "pygments_lexer": "ipython3",
   "version": "3.10.12"
  }
 },
 "nbformat": 4,
 "nbformat_minor": 4
}
